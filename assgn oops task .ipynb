{
 "cells": [
  {
   "cell_type": "markdown",
   "id": "3ab6c1cb-0309-4039-a5f0-e7efa66cf856",
   "metadata": {},
   "source": [
    "Q 1 Create a vehicle class with init method having instance variables as name_of_vehicle , max_speed and average_of_vehicle."
   ]
  },
  {
   "cell_type": "code",
   "execution_count": 5,
   "id": "0d47c548-bf83-49d8-b1a8-0e3ea275845a",
   "metadata": {},
   "outputs": [],
   "source": [
    "class vehicle:\n",
    "    \n",
    "    def __init__(self , name_of_vehicle , max_speed , average_of_vehicle) :\n",
    "        self.name_of_vehicle = name_of_vehicle\n",
    "        self.max_speed = max_speed\n",
    "        self.average_of_vehicle = average_of_vehicle\n",
    "        \n",
    "    def return_vehicle_details(self) :\n",
    "        return self.name_of_vehicle , self.max_speed , self.average_of_vehicle\n",
    "        \n",
    "        \n",
    "        "
   ]
  },
  {
   "cell_type": "code",
   "execution_count": 6,
   "id": "d5e63bbb-0c06-46da-8f32-c4ae67c7661b",
   "metadata": {},
   "outputs": [],
   "source": [
    "aditya = vehicle(\"activa\", 90 , 40 )\n"
   ]
  },
  {
   "cell_type": "code",
   "execution_count": 7,
   "id": "4cab53a7-f420-4878-9c82-7fdb9948c279",
   "metadata": {},
   "outputs": [
    {
     "data": {
      "text/plain": [
       "('activa', 90, 40)"
      ]
     },
     "execution_count": 7,
     "metadata": {},
     "output_type": "execute_result"
    }
   ],
   "source": [
    "aditya.return_vehicle_details()"
   ]
  },
  {
   "cell_type": "markdown",
   "id": "2f946d50-e21e-4d34-8f52-e673547cc09d",
   "metadata": {},
   "source": [
    "Q 2 Create a child class car from the vehicle class created in question 1 , which will inherit the vehicle class. create a method named seating_capacity which takes capacity as an argument and return the name of vehicle and its seating capacity."
   ]
  },
  {
   "cell_type": "code",
   "execution_count": 24,
   "id": "f44ded47-16bd-435b-83e7-7fe5382f5421",
   "metadata": {},
   "outputs": [],
   "source": [
    "class child_class_car(vehicle) :\n",
    "    \n",
    "    def __init__(self , seating_capacity , name_of_vehicle ) :\n",
    "        self.seating_capacity = seating_capacity\n",
    "        self.name_of_vehicle = name_of_vehicle\n",
    "        \n",
    "    def return_name_seating_capacity_details(self) :\n",
    "        return self.seating_capacity , self.name_of_vehicle\n",
    "               \n",
    "        \n",
    "        "
   ]
  },
  {
   "cell_type": "code",
   "execution_count": 25,
   "id": "05d68236-01e5-4ca2-a24f-38accd96cefc",
   "metadata": {},
   "outputs": [],
   "source": [
    "obj_car = child_class_car(4 , \"honda\")"
   ]
  },
  {
   "cell_type": "code",
   "execution_count": 26,
   "id": "5680ab11-3d2d-4cb5-a280-b498be5fe7da",
   "metadata": {},
   "outputs": [
    {
     "data": {
      "text/plain": [
       "(4, 'honda')"
      ]
     },
     "execution_count": 26,
     "metadata": {},
     "output_type": "execute_result"
    }
   ],
   "source": [
    "obj_car.return_name_seating_capacity_details()"
   ]
  },
  {
   "cell_type": "markdown",
   "id": "db756a59-6add-4ad2-9cab-d9e14535865e",
   "metadata": {},
   "source": [
    "Q 3 What is multiple inheritance ? Write a python code to demonstrate multiple inheritance."
   ]
  },
  {
   "cell_type": "markdown",
   "id": "af4adc5b-fba1-4676-b27f-5d69ed72e9e6",
   "metadata": {},
   "source": [
    "If a child class inherits from more than one class, i.e this child class is derived from multiple classes, we call it multiple inheritance ."
   ]
  },
  {
   "cell_type": "code",
   "execution_count": 7,
   "id": "d48e0949-b0c5-4b67-b694-afec438ae2e9",
   "metadata": {},
   "outputs": [],
   "source": [
    "class class1:\n",
    "    \n",
    "    def test_class1(self) :\n",
    "        return \"this is first class\""
   ]
  },
  {
   "cell_type": "code",
   "execution_count": 8,
   "id": "f579cd26-c987-44b3-a4d9-de73afe961c9",
   "metadata": {},
   "outputs": [],
   "source": [
    "class class2:\n",
    "    \n",
    "    def test_class2(self) :\n",
    "        return \"this is second class\""
   ]
  },
  {
   "cell_type": "code",
   "execution_count": 9,
   "id": "9490afd8-a3bd-4213-8e93-a1ad81546026",
   "metadata": {},
   "outputs": [],
   "source": [
    "class class3(class1 , class2):\n",
    "    pass"
   ]
  },
  {
   "cell_type": "code",
   "execution_count": 10,
   "id": "41447b73-e572-4ffd-b0a6-248ba9a494e5",
   "metadata": {},
   "outputs": [],
   "source": [
    "obj_class3 = class3()"
   ]
  },
  {
   "cell_type": "code",
   "execution_count": 12,
   "id": "6513e5b4-4449-46b8-af94-7c7fcd1634cf",
   "metadata": {},
   "outputs": [
    {
     "data": {
      "text/plain": [
       "'this is first class'"
      ]
     },
     "execution_count": 12,
     "metadata": {},
     "output_type": "execute_result"
    }
   ],
   "source": [
    "obj_class3.test_class1()"
   ]
  },
  {
   "cell_type": "code",
   "execution_count": 13,
   "id": "0f21cd9b-59cf-4827-84bb-390fc96a3238",
   "metadata": {},
   "outputs": [
    {
     "data": {
      "text/plain": [
       "'this is second class'"
      ]
     },
     "execution_count": 13,
     "metadata": {},
     "output_type": "execute_result"
    }
   ],
   "source": [
    "obj_class3.test_class2()"
   ]
  },
  {
   "cell_type": "markdown",
   "id": "7a0300a0-e7ac-4bd3-9499-9e00d5d79993",
   "metadata": {},
   "source": [
    "Q 4 What are getter and setter in python ? Create a class and create a getter and setter method in this class."
   ]
  },
  {
   "cell_type": "markdown",
   "id": "952dab01-df53-4db0-ae8f-1cfa4713af05",
   "metadata": {},
   "source": [
    "Ans 4 Getter - A method that allows you to access an attribute in a given class.\n",
    "      Setter - A method that allows you to set or mutate the value of an attribute in a class."
   ]
  },
  {
   "cell_type": "code",
   "execution_count": 53,
   "id": "7c6a4159-c882-412b-9e6c-b2c5bd2ccaee",
   "metadata": {},
   "outputs": [],
   "source": [
    "class bike:\n",
    "    \n",
    "    def __init__(self , company_name , model , speed ):\n",
    "        self.__company_name = company_name\n",
    "        self.__model = model\n",
    "        self.__speed = speed \n",
    "        \n",
    "    def set_speed(self , speed ):\n",
    "        self.__speed = 0 if speed < 0 else speed\n",
    "        \n",
    "    def get_speed(self, speed):\n",
    "        return self.__speed\n",
    "    "
   ]
  },
  {
   "cell_type": "code",
   "execution_count": 54,
   "id": "564d3b7b-1cbe-4820-80fe-1fa3c0bfbc43",
   "metadata": {},
   "outputs": [],
   "source": [
    "b = bike(\"honda\" , 2021 ,92 )"
   ]
  },
  {
   "cell_type": "code",
   "execution_count": 55,
   "id": "d7f17d8c-69fb-4dbd-a10e-7271969d5867",
   "metadata": {},
   "outputs": [
    {
     "data": {
      "text/plain": [
       "92"
      ]
     },
     "execution_count": 55,
     "metadata": {},
     "output_type": "execute_result"
    }
   ],
   "source": [
    "b._bike__speed"
   ]
  },
  {
   "cell_type": "code",
   "execution_count": 56,
   "id": "38444ec5-aa2f-4f70-aca0-781dc921bbdb",
   "metadata": {},
   "outputs": [
    {
     "data": {
      "text/plain": [
       "2021"
      ]
     },
     "execution_count": 56,
     "metadata": {},
     "output_type": "execute_result"
    }
   ],
   "source": [
    "b._bike__model"
   ]
  },
  {
   "cell_type": "code",
   "execution_count": 57,
   "id": "0ff2021f-7f1d-47b9-af48-611a4b00a7fb",
   "metadata": {},
   "outputs": [
    {
     "data": {
      "text/plain": [
       "'honda'"
      ]
     },
     "execution_count": 57,
     "metadata": {},
     "output_type": "execute_result"
    }
   ],
   "source": [
    "b._bike__company_name"
   ]
  },
  {
   "cell_type": "code",
   "execution_count": 58,
   "id": "27ff955c-f70a-4018-9d68-053739be31fc",
   "metadata": {},
   "outputs": [],
   "source": [
    "b.set_speed(65)"
   ]
  },
  {
   "cell_type": "code",
   "execution_count": 59,
   "id": "77c41928-90da-4f1b-81d4-507814200eb7",
   "metadata": {},
   "outputs": [
    {
     "ename": "TypeError",
     "evalue": "bike.get_speed() missing 1 required positional argument: 'speed'",
     "output_type": "error",
     "traceback": [
      "\u001b[0;31m---------------------------------------------------------------------------\u001b[0m",
      "\u001b[0;31mTypeError\u001b[0m                                 Traceback (most recent call last)",
      "Cell \u001b[0;32mIn[59], line 1\u001b[0m\n\u001b[0;32m----> 1\u001b[0m \u001b[43mb\u001b[49m\u001b[38;5;241;43m.\u001b[39;49m\u001b[43mget_speed\u001b[49m\u001b[43m(\u001b[49m\u001b[43m)\u001b[49m\n",
      "\u001b[0;31mTypeError\u001b[0m: bike.get_speed() missing 1 required positional argument: 'speed'"
     ]
    }
   ],
   "source": [
    "b.get_speed()"
   ]
  },
  {
   "cell_type": "markdown",
   "id": "74142651-7ccf-43d0-91b2-96167ef28a55",
   "metadata": {},
   "source": [
    "Q 5 What is method overriding in python ? Write a python code to demonstrate method overriding."
   ]
  },
  {
   "cell_type": "markdown",
   "id": "8f181d30-3f27-4d7b-b598-704655a5340b",
   "metadata": {},
   "source": [
    "Ans 5 Method overriding is a feature of OOPS language where the subclass or childclass can provide the program with specific characterstics or a specific implementation process of data provided that are already defined in the parent class or superclass."
   ]
  },
  {
   "cell_type": "code",
   "execution_count": 60,
   "id": "a5ab2381-2eb0-4216-a615-9dfb2a2e8c44",
   "metadata": {},
   "outputs": [],
   "source": [
    "class Parent():\n",
    "    \n",
    "    def __init__(self):\n",
    "        self.value = \"Inside Parent\"\n",
    "        \n",
    "    def show(self):\n",
    "        print(self.value)"
   ]
  },
  {
   "cell_type": "code",
   "execution_count": 61,
   "id": "4d64a87e-323f-4984-baa6-827bce0392fe",
   "metadata": {},
   "outputs": [],
   "source": [
    "class Child(Parent):\n",
    "    \n",
    "    def __init__(self):\n",
    "        self.value = \"Inside Child\"\n",
    "        \n",
    "    def show(self):\n",
    "        print(self.value)"
   ]
  },
  {
   "cell_type": "code",
   "execution_count": 62,
   "id": "6b474383-9b81-45ae-88ae-053909d430b9",
   "metadata": {},
   "outputs": [],
   "source": [
    "obj1 = Parent()"
   ]
  },
  {
   "cell_type": "code",
   "execution_count": 64,
   "id": "58eb4279-e8a3-4a8e-a042-de59b2a08b16",
   "metadata": {},
   "outputs": [
    {
     "name": "stdout",
     "output_type": "stream",
     "text": [
      "Inside Parent\n"
     ]
    }
   ],
   "source": [
    "obj1.show()"
   ]
  },
  {
   "cell_type": "code",
   "execution_count": 65,
   "id": "64426abf-4660-4758-b90e-46cd87b0bed7",
   "metadata": {},
   "outputs": [],
   "source": [
    "obj2 = Child()"
   ]
  },
  {
   "cell_type": "code",
   "execution_count": 66,
   "id": "37006096-bed8-42be-8fbc-26325779aa7a",
   "metadata": {},
   "outputs": [
    {
     "name": "stdout",
     "output_type": "stream",
     "text": [
      "Inside Child\n"
     ]
    }
   ],
   "source": [
    "obj2.show()"
   ]
  },
  {
   "cell_type": "code",
   "execution_count": null,
   "id": "58f8aea3-7f62-4c7b-8293-c670a6867218",
   "metadata": {},
   "outputs": [],
   "source": []
  }
 ],
 "metadata": {
  "kernelspec": {
   "display_name": "Python 3 (ipykernel)",
   "language": "python",
   "name": "python3"
  },
  "language_info": {
   "codemirror_mode": {
    "name": "ipython",
    "version": 3
   },
   "file_extension": ".py",
   "mimetype": "text/x-python",
   "name": "python",
   "nbconvert_exporter": "python",
   "pygments_lexer": "ipython3",
   "version": "3.10.8"
  }
 },
 "nbformat": 4,
 "nbformat_minor": 5
}
